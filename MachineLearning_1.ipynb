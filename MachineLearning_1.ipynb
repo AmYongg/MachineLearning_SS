{
  "nbformat": 4,
  "nbformat_minor": 0,
  "metadata": {
    "colab": {
      "name": "MachineLearning_1.ipynb",
      "provenance": [],
      "authorship_tag": "ABX9TyNHloXltHYqCayy0VcX3Cbh",
      "include_colab_link": true
    },
    "kernelspec": {
      "name": "python3",
      "display_name": "Python 3"
    },
    "language_info": {
      "name": "python"
    }
  },
  "cells": [
    {
      "cell_type": "markdown",
      "metadata": {
        "id": "view-in-github",
        "colab_type": "text"
      },
      "source": [
        "<a href=\"https://colab.research.google.com/github/AmYongg/MachineLearning_SS/blob/main/MachineLearning_1.ipynb\" target=\"_parent\"><img src=\"https://colab.research.google.com/assets/colab-badge.svg\" alt=\"Open In Colab\"/></a>"
      ]
    },
    {
      "cell_type": "code",
      "metadata": {
        "id": "sSroLXg_Sc9o"
      },
      "source": [
        "import numpy as np"
      ],
      "execution_count": 1,
      "outputs": []
    },
    {
      "cell_type": "code",
      "metadata": {
        "colab": {
          "base_uri": "https://localhost:8080/"
        },
        "id": "6I0DYtL8TLNG",
        "outputId": "cb2cadeb-0fa4-4747-f80c-7cfe11649588"
      },
      "source": [
        "array1 = np.array([1,2,3])\n",
        "print('array1 type : ', type(array1))\n",
        "print('array1 array 형태 : ', array1.shape)\n",
        "\n",
        "array2 = np.array([[1,2,3],\n",
        "                  [2,3,4]])\n",
        "print('array2 type : ', type(array2))\n",
        "print('array2 array 형태 : ', array2.shape)\n",
        "\n",
        "array3 = np.array([[1,2,3]])\n",
        "print('array3 type : ', type(array3))\n",
        "print('array3 array 형태 : ', array3.shape)"
      ],
      "execution_count": 3,
      "outputs": [
        {
          "output_type": "stream",
          "name": "stdout",
          "text": [
            "array1 type :  <class 'numpy.ndarray'>\n",
            "array1 array 형태 :  (3,)\n",
            "array2 type :  <class 'numpy.ndarray'>\n",
            "array2 array 형태 :  (2, 3)\n",
            "array3 type :  <class 'numpy.ndarray'>\n",
            "array3 array 형태 :  (1, 3)\n"
          ]
        }
      ]
    },
    {
      "cell_type": "code",
      "metadata": {
        "colab": {
          "base_uri": "https://localhost:8080/"
        },
        "id": "yl2NInTCUlzf",
        "outputId": "1b47154a-4342-4b93-c0ef-5bd47d948bcd"
      },
      "source": [
        "print('array1: {:0}차원, array2: {:1}차원, array3: {:2}차원'.format(array1.ndim, array2.ndim, array3.ndim))"
      ],
      "execution_count": 4,
      "outputs": [
        {
          "output_type": "stream",
          "name": "stdout",
          "text": [
            "array1: 1차원, array2: 2차원, array3:  2차원\n"
          ]
        }
      ]
    },
    {
      "cell_type": "code",
      "metadata": {
        "colab": {
          "base_uri": "https://localhost:8080/"
        },
        "id": "QNuWD_K-V7Lo",
        "outputId": "c1a63911-23ec-4866-f9ab-083bea705d78"
      },
      "source": [
        "list1 = [1,2,3]\n",
        "print(type(list1))\n",
        "array1=np.array(list1)\n",
        "print(type(array1))\n",
        "print(array1, array1.dtype)"
      ],
      "execution_count": 6,
      "outputs": [
        {
          "output_type": "stream",
          "name": "stdout",
          "text": [
            "<class 'list'>\n",
            "<class 'numpy.ndarray'>\n",
            "[1 2 3] int64\n"
          ]
        }
      ]
    },
    {
      "cell_type": "code",
      "metadata": {
        "colab": {
          "base_uri": "https://localhost:8080/"
        },
        "id": "bq0FziYqWYsr",
        "outputId": "d6a16b3f-4bb6-4193-e4af-247880cd79bf"
      },
      "source": [
        "list2=[1, 2, 'test']\n",
        "array2=np.array(list2)\n",
        "print(array2, array2.dtype)\n",
        "\n",
        "list3=[1,2,3.0]\n",
        "array3=np.array(list3)\n",
        "print(array3, array3.dtype)"
      ],
      "execution_count": 7,
      "outputs": [
        {
          "output_type": "stream",
          "name": "stdout",
          "text": [
            "['1' '2' 'test'] <U21\n",
            "[1. 2. 3.] float64\n"
          ]
        }
      ]
    },
    {
      "cell_type": "code",
      "metadata": {
        "colab": {
          "base_uri": "https://localhost:8080/"
        },
        "id": "fQmS9GlHW5Iw",
        "outputId": "0e7cfeb0-95c2-4464-8f44-1aca98ea8e6e"
      },
      "source": [
        "array_int=np.array([1,2,3])\n",
        "array_float=array_int.astype('float64')\n",
        "print(array_float, array_float.dtype)\n",
        "\n",
        "array_int1=array_float.astype('int32')\n",
        "print(array_int1, array_int1.dtype)\n",
        "\n",
        "array_float1=np.array([1.1, 2.1, 3.1])\n",
        "array_int2=array_float1.astype('int32')\n",
        "print(array_int2, array_int2.dtype)"
      ],
      "execution_count": 9,
      "outputs": [
        {
          "output_type": "stream",
          "name": "stdout",
          "text": [
            "[1. 2. 3.] float64\n",
            "[1 2 3] int32\n",
            "[1 2 3] int32\n"
          ]
        }
      ]
    },
    {
      "cell_type": "code",
      "metadata": {
        "colab": {
          "base_uri": "https://localhost:8080/"
        },
        "id": "sVPEYbMmX08y",
        "outputId": "8ce92210-51ba-4718-964f-e1eb5f087e7f"
      },
      "source": [
        "sequence_array=np.arange(10)\n",
        "print(sequence_array)\n",
        "print(sequence_array.dtype, sequence_array.shape)"
      ],
      "execution_count": 11,
      "outputs": [
        {
          "output_type": "stream",
          "name": "stdout",
          "text": [
            "[0 1 2 3 4 5 6 7 8 9]\n",
            "int64 (10,)\n"
          ]
        }
      ]
    },
    {
      "cell_type": "code",
      "metadata": {
        "colab": {
          "base_uri": "https://localhost:8080/"
        },
        "id": "6YcsJyZOYZwn",
        "outputId": "9231d62e-232a-47ee-ca8a-3123957fa086"
      },
      "source": [
        "zero_array=np.zeros((3,2), dtype='int32')\n",
        "print(zero_array)\n",
        "print(zero_array.dtype, zero_array.shape)\n",
        "\n",
        "one_array=np.ones((3,2))\n",
        "print(one_array)\n",
        "print(one_array.dtype, one_array.shape)"
      ],
      "execution_count": 12,
      "outputs": [
        {
          "output_type": "stream",
          "name": "stdout",
          "text": [
            "[[0 0]\n",
            " [0 0]\n",
            " [0 0]]\n",
            "int32 (3, 2)\n",
            "[[1. 1.]\n",
            " [1. 1.]\n",
            " [1. 1.]]\n",
            "float64 (3, 2)\n"
          ]
        }
      ]
    },
    {
      "cell_type": "code",
      "metadata": {
        "colab": {
          "base_uri": "https://localhost:8080/"
        },
        "id": "JjINFBmVZZOY",
        "outputId": "896c250c-702b-49ec-f3ac-3579c851afb1"
      },
      "source": [
        "array1=np.arange(10)\n",
        "print('array1:\\n', array1)\n",
        "\n",
        "array2=array1.reshape(2, 5)\n",
        "print('array2:\\n', array2)\n",
        "\n",
        "array3=array1.reshape(5, 2)\n",
        "print('array3:\\n', array3)"
      ],
      "execution_count": 16,
      "outputs": [
        {
          "output_type": "stream",
          "name": "stdout",
          "text": [
            "array1:\n",
            " [0 1 2 3 4 5 6 7 8 9]\n",
            "array2:\n",
            " [[0 1 2 3 4]\n",
            " [5 6 7 8 9]]\n",
            "array3:\n",
            " [[0 1]\n",
            " [2 3]\n",
            " [4 5]\n",
            " [6 7]\n",
            " [8 9]]\n"
          ]
        }
      ]
    },
    {
      "cell_type": "code",
      "metadata": {
        "colab": {
          "base_uri": "https://localhost:8080/"
        },
        "id": "2rGupo4Oaa3n",
        "outputId": "40bf25f5-fd3d-487c-f01b-22f782e07fe7"
      },
      "source": [
        "array1=np.arange(10)\n",
        "print(array1)\n",
        "array2=array1.reshape(-1,5)\n",
        "print('array2 shape:', array2.shape)\n",
        "array3=array1.reshape(5,-1)\n",
        "print('array3 shape:', array3.shape)"
      ],
      "execution_count": 18,
      "outputs": [
        {
          "output_type": "stream",
          "name": "stdout",
          "text": [
            "[0 1 2 3 4 5 6 7 8 9]\n",
            "array2 shape: (2, 5)\n",
            "array3 shape: (5, 2)\n"
          ]
        }
      ]
    },
    {
      "cell_type": "code",
      "metadata": {
        "colab": {
          "base_uri": "https://localhost:8080/"
        },
        "id": "Q3YYg-0SbDmY",
        "outputId": "090ed7eb-cbbe-4246-84b0-b74650a545eb"
      },
      "source": [
        "array1=np.arange(8)\n",
        "array3d=array1.reshape((2,2,2))\n",
        "print('array3d:\\n', array3d.tolist())\n",
        "\n",
        "#3차원 ndaraay를 2차원 ndarray로 변환\n",
        "array5=array3d.reshape(-1,1)\n",
        "print('array5:\\n', array5.tolist())\n",
        "print('array5 reshape:', array5.shape)\n",
        "\n",
        "#1차원 ndarray를 2차원 ndarry로 변환\n",
        "array6=array1.reshape(-1,1)\n",
        "print('array6:\\n', array6.tolist())\n",
        "print('array6 shape:', array6.shape)"
      ],
      "execution_count": 20,
      "outputs": [
        {
          "output_type": "stream",
          "name": "stdout",
          "text": [
            "array3d:\n",
            " [[[0, 1], [2, 3]], [[4, 5], [6, 7]]]\n",
            "array5:\n",
            " [[0], [1], [2], [3], [4], [5], [6], [7]]\n",
            "array5 reshape: (8, 1)\n",
            "array6:\n",
            " [[0], [1], [2], [3], [4], [5], [6], [7]]\n",
            "array6 shape: (8, 1)\n"
          ]
        }
      ]
    },
    {
      "cell_type": "code",
      "metadata": {
        "colab": {
          "base_uri": "https://localhost:8080/"
        },
        "id": "wi5ypViUd6QW",
        "outputId": "13140bf4-ec7e-4017-b3e7-818178701dc1"
      },
      "source": [
        "#1부터 9까지의 1차원 ndarray 생성\n",
        "array1=np.arange(start=1, stop=10)\n",
        "print('array1:', array1)\n",
        "#index는 0부터 시작하므로 array1[2]는 3번째 index 위치의 데이터값을 의미\n",
        "value=array1[2]\n",
        "print('value:', value)\n",
        "print(type(value))"
      ],
      "execution_count": 21,
      "outputs": [
        {
          "output_type": "stream",
          "name": "stdout",
          "text": [
            "array1: [1 2 3 4 5 6 7 8 9]\n",
            "value: 3\n",
            "<class 'numpy.int64'>\n"
          ]
        }
      ]
    },
    {
      "cell_type": "code",
      "metadata": {
        "colab": {
          "base_uri": "https://localhost:8080/"
        },
        "id": "VWhO3egFfe7g",
        "outputId": "cead0063-abcc-49d4-ac53-90e245ecbcd0"
      },
      "source": [
        "print('맨 뒤의 값:', array1[-1], '맨 뒤에서 두번째 값:', array1[-2])"
      ],
      "execution_count": 22,
      "outputs": [
        {
          "output_type": "stream",
          "name": "stdout",
          "text": [
            "맨 뒤의 값: 9 맨 뒤에서 두번째 값: 8\n"
          ]
        }
      ]
    },
    {
      "cell_type": "code",
      "metadata": {
        "colab": {
          "base_uri": "https://localhost:8080/"
        },
        "id": "VQeN_9_8fybP",
        "outputId": "b9020325-2183-468b-d889-edeef9edc2b8"
      },
      "source": [
        "array1[0]=9\n",
        "array1[8]=0\n",
        "print('array1:', array1)"
      ],
      "execution_count": 23,
      "outputs": [
        {
          "output_type": "stream",
          "name": "stdout",
          "text": [
            "array1: [9 2 3 4 5 6 7 8 0]\n"
          ]
        }
      ]
    },
    {
      "cell_type": "code",
      "metadata": {
        "colab": {
          "base_uri": "https://localhost:8080/"
        },
        "id": "18IgDDQVf-wT",
        "outputId": "a4e40e7c-85f8-4559-ad67-9aa02a9beef3"
      },
      "source": [
        "array1d=np.arange(start=1, stop=10)\n",
        "array2d=array1d.reshape(3,3)\n",
        "print(array2d)\n",
        "\n",
        "print('(row=0, col=0) index 가리키는 값:', array2d[0,0])\n",
        "print('(row=0, col=1) index 가르키는 값:', array2d[0,1])\n",
        "print('(row=1, col=0) index 가르키는 값:', array2d[1,0])\n",
        "print('(row=2, col=2) index 가르키는 값:', array2d[2,2])"
      ],
      "execution_count": 26,
      "outputs": [
        {
          "output_type": "stream",
          "name": "stdout",
          "text": [
            "[[1 2 3]\n",
            " [4 5 6]\n",
            " [7 8 9]]\n",
            "(row=0, col=0) index 가리키는 값: 1\n",
            "(row=0, col=1) index 가르키는 값: 2\n",
            "(row=1, col=0) index 가르키는 값: 4\n",
            "(row=2, col=2) index 가르키는 값: 9\n"
          ]
        }
      ]
    },
    {
      "cell_type": "code",
      "metadata": {
        "colab": {
          "base_uri": "https://localhost:8080/"
        },
        "id": "yoRItKY7hDzO",
        "outputId": "fdad8a52-7cb5-4b6d-9e8a-b0b23ea2a5de"
      },
      "source": [
        "array1=np.arange(start=1, stop=10)\n",
        "array3=array1[0:3]\n",
        "print(array3)\n",
        "print(type(array3))"
      ],
      "execution_count": 27,
      "outputs": [
        {
          "output_type": "stream",
          "name": "stdout",
          "text": [
            "[1 2 3]\n",
            "<class 'numpy.ndarray'>\n"
          ]
        }
      ]
    },
    {
      "cell_type": "code",
      "metadata": {
        "colab": {
          "base_uri": "https://localhost:8080/"
        },
        "id": "nUKn-i9Zhv2y",
        "outputId": "bf33c5f0-48b1-4a6a-eae2-647abf0830c5"
      },
      "source": [
        "array1=np.arange(start=1, stop=10)\n",
        "array4=array1[:3]\n",
        "print(array4)\n",
        "\n",
        "array5=array1[3:]\n",
        "print(array5)\n",
        "\n",
        "array6=array1[:]\n",
        "print(array6)"
      ],
      "execution_count": 28,
      "outputs": [
        {
          "output_type": "stream",
          "name": "stdout",
          "text": [
            "[1 2 3]\n",
            "[4 5 6 7 8 9]\n",
            "[1 2 3 4 5 6 7 8 9]\n"
          ]
        }
      ]
    },
    {
      "cell_type": "code",
      "metadata": {
        "colab": {
          "base_uri": "https://localhost:8080/"
        },
        "id": "KkGgg3jviFG9",
        "outputId": "a6a7aee8-ab93-4898-f9cb-e71a42609a30"
      },
      "source": [
        "array1d=np.arange(start=1, stop=10)\n",
        "array2d=array1.reshape(3,3)\n",
        "print('array2d:\\n', array2d)\n",
        "\n",
        "print('array2d[0:2, 0:2] \\n', array2d[0:2, 0:2])\n",
        "print('array2d[1:3, 0:3] \\n', array2d[1:3, 0:3])\n",
        "print('array2d[1:3, :] \\n', array2d[1:3, :])\n",
        "print('array2d[:,:] \\n', array2d[:,:])\n",
        "print('array2d[:2, 1:] \\n', array2d[:2, 1:])\n",
        "print('array2d[:2, 0] \\n', array2d[:2, 0])"
      ],
      "execution_count": 29,
      "outputs": [
        {
          "output_type": "stream",
          "name": "stdout",
          "text": [
            "array2d:\n",
            " [[1 2 3]\n",
            " [4 5 6]\n",
            " [7 8 9]]\n",
            "array2d[0:2, 0:2] \n",
            " [[1 2]\n",
            " [4 5]]\n",
            "array2d[1:3, 0:3] \n",
            " [[4 5 6]\n",
            " [7 8 9]]\n",
            "array2d[1:3, :] \n",
            " [[4 5 6]\n",
            " [7 8 9]]\n",
            "array2d[:,:] \n",
            " [[1 2 3]\n",
            " [4 5 6]\n",
            " [7 8 9]]\n",
            "array2d[:2, 1:] \n",
            " [[2 3]\n",
            " [5 6]]\n",
            "array2d[:2, 0] \n",
            " [1 4]\n"
          ]
        }
      ]
    },
    {
      "cell_type": "code",
      "metadata": {
        "id": "9mriVCqZjgwl"
      },
      "source": [
        ""
      ],
      "execution_count": null,
      "outputs": []
    }
  ]
}